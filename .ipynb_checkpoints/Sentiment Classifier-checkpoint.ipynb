{
 "cells": [
  {
   "cell_type": "code",
   "execution_count": 2,
   "id": "6d340fa9",
   "metadata": {},
   "outputs": [],
   "source": [
    "import pandas as pd\n",
    "import numpy as np\n",
    "import nltk\n",
    "import string"
   ]
  },
  {
   "cell_type": "code",
   "execution_count": 3,
   "id": "95cab758",
   "metadata": {},
   "outputs": [
    {
     "name": "stdout",
     "output_type": "stream",
     "text": [
      "      sentiment                                             review\n",
      "0      Positive  With all this stuff going down at the moment w...\n",
      "1      Positive  'The Classic War of the Worlds' by Timothy Hin...\n",
      "2      Negative  The film starts with a manager (Nicholas Bell)...\n",
      "3      Negative  It must be assumed that those who praised this...\n",
      "4      Positive  Superbly trashy and wondrously unpretentious 8...\n",
      "...         ...                                                ...\n",
      "24995  Negative  It seems like more consideration has gone into...\n",
      "24996  Negative  I don't believe they made this film. Completel...\n",
      "24997  Negative  Guy is a loser. Can't get girls, needs to buil...\n",
      "24998  Negative  This 30 minute documentary Buñuel made in the ...\n",
      "24999  Positive  I saw this movie as a child and it broke my he...\n",
      "\n",
      "[25000 rows x 2 columns]\n"
     ]
    }
   ],
   "source": [
    "df = pd.read_csv('MovieReviewTrainingDatabase.csv')\n",
    "print(df)"
   ]
  },
  {
   "cell_type": "code",
   "execution_count": 4,
   "id": "13b07707",
   "metadata": {},
   "outputs": [
    {
     "name": "stderr",
     "output_type": "stream",
     "text": [
      "IOPub data rate exceeded.\n",
      "The notebook server will temporarily stop sending output\n",
      "to the client in order to avoid crashing it.\n",
      "To change this limit, set the config variable\n",
      "`--NotebookApp.iopub_data_rate_limit`.\n",
      "\n",
      "Current values:\n",
      "NotebookApp.iopub_data_rate_limit=1000000.0 (bytes/sec)\n",
      "NotebookApp.rate_limit_window=3.0 (secs)\n",
      "\n"
     ]
    }
   ],
   "source": [
    "concatenated_positive = []\n",
    "concatenated_negative = []\n",
    "positive_bow = []\n",
    "negative_bow = []\n",
    "for index, row in df.iterrows():\n",
    "    sentiment = row['sentiment']\n",
    "    unprocessed_review = row['review']\n",
    "    processed_review = \"\".join([char for char in unprocessed_review if char not in string.punctuation])\n",
    "    processed_review = processed_review.lower()\n",
    "    if sentiment == 'Positive':\n",
    "        concatenated_positive += nltk.tokenize.word_tokenize(processed_review)\n",
    "    else:\n",
    "        concatenated_negative += nltk.tokenize.word_tokenize(processed_review)\n",
    "print(concatenated_positive)\n",
    "            "
   ]
  },
  {
   "cell_type": "code",
   "execution_count": null,
   "id": "389a70e0",
   "metadata": {},
   "outputs": [],
   "source": []
  }
 ],
 "metadata": {
  "kernelspec": {
   "display_name": "Python 3",
   "language": "python",
   "name": "python3"
  },
  "language_info": {
   "codemirror_mode": {
    "name": "ipython",
    "version": 3
   },
   "file_extension": ".py",
   "mimetype": "text/x-python",
   "name": "python",
   "nbconvert_exporter": "python",
   "pygments_lexer": "ipython3",
   "version": "3.8.8"
  }
 },
 "nbformat": 4,
 "nbformat_minor": 5
}
