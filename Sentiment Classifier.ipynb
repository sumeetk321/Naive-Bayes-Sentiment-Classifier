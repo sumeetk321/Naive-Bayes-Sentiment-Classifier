{
 "cells": [
  {
   "cell_type": "code",
   "execution_count": 18,
   "id": "6d340fa9",
   "metadata": {},
   "outputs": [],
   "source": [
    "import pandas as pd\n",
    "import numpy as np\n",
    "import nltk\n",
    "import string\n",
    "from sklearn.model_selection import train_test_split"
   ]
  },
  {
   "cell_type": "code",
   "execution_count": 19,
   "id": "95cab758",
   "metadata": {},
   "outputs": [],
   "source": [
    "df = pd.read_csv('MovieReviewTrainingDatabase.csv')\n",
    "train, test = train_test_split(df, test_size=0.01)"
   ]
  },
  {
   "cell_type": "code",
   "execution_count": 20,
   "id": "13b07707",
   "metadata": {},
   "outputs": [],
   "source": [
    "concatenated_positive = []\n",
    "concatenated_negative = []\n",
    "positive_bow = []\n",
    "negative_bow = []\n",
    "num_positive_documents = 0;\n",
    "num_negative_documents = 0;\n",
    "for index, row in train.iterrows():\n",
    "    sentiment = row['sentiment']\n",
    "    unprocessed_review = row['review']\n",
    "    processed_review = \"\".join([char for char in unprocessed_review if char not in string.punctuation])\n",
    "    processed_review = processed_review.lower()\n",
    "    if sentiment == 'Positive':\n",
    "        concatenated_positive += nltk.tokenize.word_tokenize(processed_review)\n",
    "        num_positive_documents += 1\n",
    "    else:\n",
    "        concatenated_negative += nltk.tokenize.word_tokenize(processed_review)\n",
    "        num_negative_documents += 1\n",
    "\n",
    "positive_bow = list(set(concatenated_positive))\n",
    "negative_bow = list(set(concatenated_negative))\n",
    "vocab = list(set(positive_bow + negative_bow))"
   ]
  },
  {
   "cell_type": "markdown",
   "id": "646f96bd",
   "metadata": {},
   "source": [
    "### The equation for the class chosen by a Naive Bayes classifier:\n",
    "\n",
    "$$c_{NB} = \\underset{c \\in C}{\\arg\\max}\\log P(c) + \\sum_{i \\in positions}^{}\\log P(w_{i}|c)$$"
   ]
  },
  {
   "cell_type": "code",
   "execution_count": 21,
   "id": "389a70e0",
   "metadata": {},
   "outputs": [],
   "source": [
    "log_prior_positive = np.log(num_positive_documents / (num_positive_documents + num_negative_documents))\n",
    "log_prior_negative = np.log(num_negative_documents / (num_positive_documents + num_negative_documents))"
   ]
  },
  {
   "cell_type": "code",
   "execution_count": 23,
   "id": "60e96c24",
   "metadata": {},
   "outputs": [],
   "source": [
    "num_correct = 0;\n",
    "num_total = 0;\n",
    "\n",
    "fdist_positive = nltk.FreqDist(concatenated_positive)\n",
    "word_freqs_positive = dict((k, v) for k, v in fdist_positive.items())\n",
    "\n",
    "fdist_negative = nltk.FreqDist(concatenated_negative)\n",
    "word_freqs_negative = dict((k, v) for k, v in fdist_negative.items())\n",
    "\n",
    "\n",
    "for index, row in test.iterrows():\n",
    "    sentiment = row['sentiment']\n",
    "    unprocessed_review = row['review']\n",
    "    processed_review = \"\".join([char for char in unprocessed_review if char not in string.punctuation])\n",
    "    processed_review = processed_review.lower()\n",
    "    \n",
    "    positive_sum = log_prior_positive\n",
    "    negative_sum = log_prior_negative\n",
    "\n",
    "    for word in nltk.tokenize.word_tokenize(processed_review):\n",
    "        if word not in vocab:\n",
    "            continue\n",
    "        if word not in word_freqs_positive:\n",
    "            numerator = 1\n",
    "        else:\n",
    "            numerator = word_freqs_positive[word] + 1\n",
    "        denominator = (len(concatenated_positive)+len(vocab))\n",
    "        positive_sum += np.log(numerator/denominator)\n",
    "        if word not in word_freqs_negative:\n",
    "            numerator = 1\n",
    "        else:\n",
    "            numerator = word_freqs_negative[word] + 1\n",
    "        denominator = (len(concatenated_negative)+len(vocab))\n",
    "        negative_sum += np.log(numerator/denominator)\n",
    "\n",
    "    if (positive_sum > negative_sum and sentiment == 'Positive') or (negative_sum > positive_sum and sentiment == 'Negative'):\n",
    "        num_correct += 1\n",
    "\n",
    "    num_total += 1"
   ]
  },
  {
   "cell_type": "code",
   "execution_count": 24,
   "id": "e1a58c11",
   "metadata": {},
   "outputs": [
    {
     "name": "stdout",
     "output_type": "stream",
     "text": [
      "Accuracy:  0.836\n"
     ]
    }
   ],
   "source": [
    "print('Accuracy: ', num_correct / num_total)"
   ]
  },
  {
   "cell_type": "code",
   "execution_count": null,
   "id": "008719b1",
   "metadata": {},
   "outputs": [],
   "source": []
  }
 ],
 "metadata": {
  "kernelspec": {
   "display_name": "Python 3",
   "language": "python",
   "name": "python3"
  },
  "language_info": {
   "codemirror_mode": {
    "name": "ipython",
    "version": 3
   },
   "file_extension": ".py",
   "mimetype": "text/x-python",
   "name": "python",
   "nbconvert_exporter": "python",
   "pygments_lexer": "ipython3",
   "version": "3.8.8"
  }
 },
 "nbformat": 4,
 "nbformat_minor": 5
}
